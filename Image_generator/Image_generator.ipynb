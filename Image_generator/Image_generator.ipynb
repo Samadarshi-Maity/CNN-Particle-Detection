{
 "cells": [
  {
   "cell_type": "code",
   "execution_count": 1,
   "id": "0f91adc5",
   "metadata": {},
   "outputs": [],
   "source": [
    "# import some necessary python modules \n",
    "import numpy as np\n",
    "import pandas as pd\n",
    "import random \n",
    "import os\n",
    "import glob \n",
    "import tqdm\n",
    "import matplotlib.pyplot as plt\n",
    "from scipy.ndimage import gaussian_filter\n",
    "#! pip install pyarrow\n",
    "plt.style.use('classic')\n",
    "import matplotlib as mpl\n",
    "import scipy"
   ]
  },
  {
   "cell_type": "code",
   "execution_count": null,
   "id": "0f213e64",
   "metadata": {},
   "outputs": [],
   "source": [
    "print(\"tqdm version:\", tqdm.__version__)\n",
    "print(\"matplotlib version:\", mpl.__version__)\n",
    "print(\"scipy version:\", scipy.__version__)"
   ]
  },
  {
   "cell_type": "code",
   "execution_count": 2,
   "id": "bebd0e18",
   "metadata": {},
   "outputs": [],
   "source": [
    "# create a folder \n",
    "if not os.path.exists('Imagefolder_100'):\n",
    "    os.mkdir('Imagefolder_100')\n",
    "if not os.path.exists('Heatmap_100'):\n",
    "    os.mkdir('Heatmap_100')"
   ]
  },
  {
   "cell_type": "code",
   "execution_count": 3,
   "id": "5cc2b1c9",
   "metadata": {},
   "outputs": [],
   "source": [
    "# define the frame dimensions\n",
    "X_frames = 128\n",
    "Y_frames = 128\n",
    "\n",
    "# measure typical number density\n",
    "Packing_fraction  = 0.7\n",
    "total_Area  = X_frames*Y_frames\n",
    "particle_radius =  22.5/1300*64\n",
    "\n",
    "N = total_Area/(np.pi*particle_radius**2)"
   ]
  },
  {
   "cell_type": "code",
   "execution_count": 4,
   "id": "5e164a76",
   "metadata": {},
   "outputs": [],
   "source": [
    "# define a function that will generate the images for you\n",
    "\n",
    "def image_generator(outpath_path, image_size, N_particles, PtoB_ratio=0.1, packing_frac = 0.5):\n",
    "    '''\n",
    "    Generates N images of a specified size in .jpg format\n",
    "    Params:\n",
    "        output_path: \n",
    "    Outputs:\n",
    "        \n",
    "    '''\n",
    "    # define the frame dimensions\n",
    "    X_frames = image_size[0]\n",
    "    Y_frames = image_size[1]\n",
    "\n",
    "    # for the grids that will be later made\n",
    "    xedges =  np.linspace(-X_frames/2, X_frames/2, X_frames+1)\n",
    "    yedges =  np.linspace(-Y_frames/2, Y_frames/2, Y_frames+1)\n",
    "\n",
    "    # measure typical number density\n",
    "    Packing_fraction  = packing_frac\n",
    "\n",
    "    # define the particle to box ratio\n",
    "    PtoB_ratio = PtoB_ratio\n",
    "\n",
    "    # generate a number between these values\n",
    "    num_circles = N_particles\n",
    "\n",
    "    # create a smapling list a bit smaller than the image dimensions\n",
    "    length_rand = int(np.floor(X_frames/10)*10)\n",
    "    \n",
    "    random_list_ = sorted(np.unique(np.array(np.linspace(-length_rand/2, length_rand/2, length_rand), dtype = int)))\n",
    "\n",
    "    # pick for the list\n",
    "    Xx = random.sample(random_list_, num_circles)\n",
    "    Yy = random.sample(random_list_, num_circles)\n",
    "\n",
    "    # scale the coorinates to the correct size\n",
    "    X = np.array(Xx)/X_frames*1000/10000\n",
    "    Y = np.array(Yy)/Y_frames*1000/10000\n",
    "    scale_ = 4\n",
    "\n",
    "    # develop the image with consistent dimensions\n",
    "    fig = plt.figure(figsize = (scale_, scale_))\n",
    "    ax = plt.Axes(fig, [0., 0., 1., 1.])\n",
    "    ax.axis('equal')\n",
    "    ax.set_axis_off()\n",
    "    fig.add_axes(ax)\n",
    "    plt.scatter(X,Y, c = 'k', s = (PtoB_ratio*scale_*70.7)**2)\n",
    "    plt.xlim([-0.05, 0.05])\n",
    "    plt.ylim([-0.05, 0.05])\n",
    "    plt.savefig(outpath_path+'.png', dpi=X_frames/scale_)\n",
    "    plt.close()\n",
    "\n",
    "    # check for duplicates\n",
    "    # duplicates can cause problems with the output\n",
    "    data_check = pd.DataFrame({'X':Xx, 'Y':Yy})\n",
    "    data_check.sort_values(by = ['X'])\n",
    "    vall1 = data_check.groupby('X')['Y'].count()\n",
    "    vall2 = data_check.groupby('X')['Y'].nunique()\n",
    "    dupli = np.sum(vall1.values- vall2.values)\n",
    "\n",
    "    # now create the simulated response\n",
    "    H, xedges, yedges = np.histogram2d(Yy, Xx, bins=(xedges, yedges))\n",
    "\n",
    "    return Xx,Yy, dupli, np.flipud(H)"
   ]
  },
  {
   "cell_type": "code",
   "execution_count": 5,
   "id": "dbc0d2f0",
   "metadata": {},
   "outputs": [],
   "source": [
    "# create a for loop for geerating the images\n",
    "def gen_path(folder, N_images):\n",
    "    '''\n",
    "    This function is used to create path list for the images\n",
    "    '''\n",
    "    path_list = [(folder + '\\\\' +str(n).zfill(6)) for n in range(N_images)]\n",
    "    return path_list   "
   ]
  },
  {
   "cell_type": "code",
   "execution_count": 7,
   "id": "d3739f9a",
   "metadata": {},
   "outputs": [
    {
     "name": "stderr",
     "output_type": "stream",
     "text": [
      "100%|██████████████████████████████████████████████████████████████████████████████████| 10/10 [00:00<00:00, 23.57it/s]\n"
     ]
    }
   ],
   "source": [
    "# create a bunch of images t  \n",
    "\n",
    "folder =r'Imagefolder_100'\n",
    "N_images = 10\n",
    "\n",
    "path_list = gen_path(folder, N_images)\n",
    "\n",
    "H_list = []\n",
    "for i in tqdm.tqdm(range(N_images)) :\n",
    "    X_, Y_, d_, H = image_generator(path_list[i], [128, 128],100, PtoB_ratio=17/512, packing_frac = 0.5)\n",
    "    H_list.append(H.flatten())"
   ]
  },
  {
   "cell_type": "code",
   "execution_count": 19,
   "id": "09867979",
   "metadata": {},
   "outputs": [],
   "source": [
    "# sav the y values in a parquet format \n",
    "H_val = pd.DataFrame()\n",
    "H_val['H'] = H_list\n",
    "H_val.to_parquet('H_values_100.parquet')"
   ]
  },
  {
   "cell_type": "code",
   "execution_count": 22,
   "id": "77820a64",
   "metadata": {},
   "outputs": [
    {
     "name": "stderr",
     "output_type": "stream",
     "text": [
      "100%|█████████████████████████████████████████████████████████████████████████████████| 10/10 [00:00<00:00, 338.50it/s]\n"
     ]
    }
   ],
   "source": [
    "# create heatmaps\n",
    "for i in tqdm(range(len(H_val))):\n",
    "    sigma = 0.7  # Spread of the Gaussian\n",
    "\n",
    "    binary_mask =  H_val['H'].iloc[i].reshape(128, 128) # Should be shape (128, 128) with 1s at centers\n",
    "    heatmap = gaussian_filter(binary_mask.astype(np.float32), sigma=sigma)\n",
    "    heatmap = np.clip(heatmap, 0, 1)\n",
    "    \n",
    "\n",
    "    np.save(path_list[i]+'.npy', heatmap)"
   ]
  }
 ],
 "metadata": {
  "kernelspec": {
   "display_name": "Python 3 (ipykernel)",
   "language": "python",
   "name": "python3"
  },
  "language_info": {
   "codemirror_mode": {
    "name": "ipython",
    "version": 3
   },
   "file_extension": ".py",
   "mimetype": "text/x-python",
   "name": "python",
   "nbconvert_exporter": "python",
   "pygments_lexer": "ipython3",
   "version": "3.9.7"
  },
  "toc": {
   "base_numbering": 1,
   "nav_menu": {},
   "number_sections": true,
   "sideBar": true,
   "skip_h1_title": false,
   "title_cell": "Table of Contents",
   "title_sidebar": "Contents",
   "toc_cell": false,
   "toc_position": {},
   "toc_section_display": true,
   "toc_window_display": false
  },
  "varInspector": {
   "cols": {
    "lenName": 16,
    "lenType": 16,
    "lenVar": 40
   },
   "kernels_config": {
    "python": {
     "delete_cmd_postfix": "",
     "delete_cmd_prefix": "del ",
     "library": "var_list.py",
     "varRefreshCmd": "print(var_dic_list())"
    },
    "r": {
     "delete_cmd_postfix": ") ",
     "delete_cmd_prefix": "rm(",
     "library": "var_list.r",
     "varRefreshCmd": "cat(var_dic_list()) "
    }
   },
   "types_to_exclude": [
    "module",
    "function",
    "builtin_function_or_method",
    "instance",
    "_Feature"
   ],
   "window_display": false
  }
 },
 "nbformat": 4,
 "nbformat_minor": 5
}
