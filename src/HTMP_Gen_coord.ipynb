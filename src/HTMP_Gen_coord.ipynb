{
 "cells": [
  {
   "cell_type": "code",
   "execution_count": 1,
   "id": "cf498bac",
   "metadata": {},
   "outputs": [],
   "source": [
    "# import necessary modules \n",
    "import pandas as pd\n",
    "import numpy as np"
   ]
  },
  {
   "cell_type": "code",
   "execution_count": null,
   "id": "2d0314ba",
   "metadata": {},
   "outputs": [],
   "source": [
    "# import the dataframe from the images\n",
    "\n",
    "path = '' # add the path to the pplace when the XY coordinates are kept\n",
    "          # add the data frame should be stores in tsv format with 't' is csv with tab separation.\n",
    "    \n",
    "path_list = glob.glob( path + '/*.csv')\n",
    "\n",
    "# count the number of parquet files that are \n",
    "N_images = len(path_list)\n",
    "\n",
    "def Experimental_H_generator(frame_coord_path):\n",
    "    '''\n",
    "    Function to extract the XY coordinates and add them to  \n",
    "    the \n",
    "    Params: \n",
    "        path to the tsv file \n",
    "    Returns: \n",
    "        \n",
    "    '''\n",
    "    data_check = pd.read_csv(frame_coord_path, sep = '\\t')\n",
    "    # duplicates can cause problems with the output\n",
    "    data_check.sort_values(by = ['X'])\n",
    "    vall1 = data_check.groupby('X')['Y'].count()\n",
    "    vall2 = data_check.groupby('X')['Y'].nunique()\n",
    "    dupli = np.sum(vall1.values- vall2.values)\n",
    "\n",
    "    # convert the spatial_distribution from the X, Y coordinates \n",
    "    H, xedges, yedges = np.histogram2d(Yy, Xx, bins=(xedges, yedges))\n",
    "    return H "
   ]
  },
  {
   "cell_type": "code",
   "execution_count": null,
   "id": "adc4c31d",
   "metadata": {},
   "outputs": [],
   "source": [
    "# create a list with all the 2D maps of the particle positions\n",
    "H_list = [H.flatten() for i in range(N_images)]\n",
    "    \n",
    "# save name .... saves the file to the save name .... \n",
    "H_val = pd.DataFrame()\n",
    "H_val['H'] = H_list\n",
    "H_val.to_parquet('H_values_100.parquet')    "
   ]
  },
  {
   "cell_type": "code",
   "execution_count": null,
   "id": "03e4f531",
   "metadata": {},
   "outputs": [],
   "source": []
  }
 ],
 "metadata": {
  "kernelspec": {
   "display_name": "Python 3 (ipykernel)",
   "language": "python",
   "name": "python3"
  },
  "language_info": {
   "codemirror_mode": {
    "name": "ipython",
    "version": 3
   },
   "file_extension": ".py",
   "mimetype": "text/x-python",
   "name": "python",
   "nbconvert_exporter": "python",
   "pygments_lexer": "ipython3",
   "version": "3.9.7"
  },
  "toc": {
   "base_numbering": 1,
   "nav_menu": {},
   "number_sections": true,
   "sideBar": true,
   "skip_h1_title": false,
   "title_cell": "Table of Contents",
   "title_sidebar": "Contents",
   "toc_cell": false,
   "toc_position": {},
   "toc_section_display": true,
   "toc_window_display": false
  },
  "varInspector": {
   "cols": {
    "lenName": 16,
    "lenType": 16,
    "lenVar": 40
   },
   "kernels_config": {
    "python": {
     "delete_cmd_postfix": "",
     "delete_cmd_prefix": "del ",
     "library": "var_list.py",
     "varRefreshCmd": "print(var_dic_list())"
    },
    "r": {
     "delete_cmd_postfix": ") ",
     "delete_cmd_prefix": "rm(",
     "library": "var_list.r",
     "varRefreshCmd": "cat(var_dic_list()) "
    }
   },
   "types_to_exclude": [
    "module",
    "function",
    "builtin_function_or_method",
    "instance",
    "_Feature"
   ],
   "window_display": false
  }
 },
 "nbformat": 4,
 "nbformat_minor": 5
}
