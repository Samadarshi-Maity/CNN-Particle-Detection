{
 "cells": [
  {
   "cell_type": "markdown",
   "id": "38c3dbcd",
   "metadata": {},
   "source": [
    "# This is a sample notebook to generate synthetic data of overlapping particles"
   ]
  },
  {
   "cell_type": "code",
   "execution_count": 7,
   "id": "b94025db",
   "metadata": {
    "code_folding": []
   },
   "outputs": [],
   "source": [
    "# import some necessary python modules \n",
    "import numpy as np\n",
    "import yaml\n",
    "import pandas as pd\n",
    "import random \n",
    "import os\n",
    "import glob \n",
    "import tqdm\n",
    "from scipy.ndimage import gaussian_filter\n",
    "import math\n",
    "import scipy\n",
    "from pathlib import Path\n",
    "import matplotlib.pyplot as plt\n",
    "plt.style.use('classic')"
   ]
  },
  {
   "cell_type": "code",
   "execution_count": 9,
   "id": "137b80da",
   "metadata": {
    "code_folding": []
   },
   "outputs": [],
   "source": [
    "# import the user defined modules \n",
    "from image_generate_modules import gen_path, image_generator,  pick_xy_with_min_distance \n",
    "from utils.config_utils import load_config"
   ]
  },
  {
   "cell_type": "code",
   "execution_count": 10,
   "id": "1525cb70",
   "metadata": {
    "code_folding": []
   },
   "outputs": [],
   "source": [
    "# declare necessary cirectory architecture\n",
    "# ........... build the path architecture ........ \n",
    "cwd = Path().resolve() \n",
    "Parent = cwd.parent\n",
    "# set file path architecture \n",
    "path_data = load_config(str(cwd.parent / 'configs/config.yaml'))\n",
    "# path to synthetic training data \n",
    "train_data_syn = cwd.parent /path_data['Images']['FirstTrain_syn']\n",
    "# path to the heatmaps (parquet and the .npy)\n",
    "parquet_path = cwd.parent /path_data['Heatmaps']['Parquet_Transfer']\n",
    "heatmap_data_syn = cwd.parent /path_data['Heatmaps']['FirstTrain_syn']\n",
    "\n",
    "# Location to store the training images \n",
    "syn_img_folder = str(train_data_syn)\n",
    "syn_heatmap_folder = str(heatmap_data_syn )\n",
    "\n",
    "# location to store the "
   ]
  },
  {
   "cell_type": "code",
   "execution_count": null,
   "id": "4d285455",
   "metadata": {},
   "outputs": [],
   "source": [
    "# define the frame dimensions\n",
    "X_size = 128\n",
    "Y_size = 128\n",
    "\n",
    "N_images = 10           # number of images\n",
    "nbParticles = 500       # The approximate number of particles \n",
    "PtoB_ratio  = 17/512    # PtoB_ratio maps the particle size in microns to the image in the pixels \n",
    "Packing_fraction = 0.5  # packing fraction of the particles \n",
    "\n",
    "# create path locations for saveing the synthetic images\n",
    "path_list = gen_path(syn_img_folder, N_images) \n",
    "\n",
    "# stores data of the particle postion as 2D binary mask\n",
    "H_list = []\n",
    "\n",
    "# create a bunch of images  \n",
    "for i in tqdm.tqdm(range(N_images)) :\n",
    "    X_, Y_, H = image_generator(path_list[i], [X_size, Y_size], nbParticles , PtoB_ratio=PtoB_ratio, packing_frac = Packing_fraction)\n",
    "    H_list.append(H.flatten())"
   ]
  },
  {
   "cell_type": "code",
   "execution_count": 16,
   "id": "8dd4f29a",
   "metadata": {
    "code_folding": []
   },
   "outputs": [],
   "source": [
    "# save the 2D logistic map parquet format ... serves as a metadata ....\n",
    "parquet_name = 'temp.parquet'\n",
    "H_val = pd.DataFrame()\n",
    "H_val['H'] = H_list\n",
    "H_val.to_parquet(str(parquet_path /'temp.parquet'))"
   ]
  },
  {
   "cell_type": "code",
   "execution_count": 19,
   "id": "cab3c929",
   "metadata": {
    "code_folding": []
   },
   "outputs": [
    {
     "name": "stderr",
     "output_type": "stream",
     "text": [
      "100%|███████████████████████████████████████████████████████████████████████████| 10000/10000 [00:52<00:00, 189.45it/s]\n"
     ]
    }
   ],
   "source": [
    "# create heatmaps\n",
    "\n",
    "# create path locations for saveing the synthetic image heatmaps \n",
    "path_list = gen_path(syn_heatmap_folder, N_images)\n",
    "\n",
    "# run the loop for developing the synthetic image heatmaops \n",
    "for i in tqdm.tqdm(range(len(H_val))):\n",
    "    sigma = 0.7  # Spread of the Gaussian\n",
    "    \n",
    "    # resize the data into a 2D binary mask\n",
    "    binary_mask =  H_val['H'].iloc[i].reshape(X_size, Y_size) # Should be shape (128, 128) with 1s at centers\n",
    "    # create heatmaps \n",
    "    heatmap = gaussian_filter(binary_mask.astype(np.float32), sigma=sigma)\n",
    "    \n",
    "    # arrest the values of teh htmap between 0 and 1 \n",
    "    heatmap = np.clip(heatmap, 0, 1)\n",
    "    \n",
    "    # save as a 2D numpy array\n",
    "    np.save(path_list[i]+'.npy', heatmap)"
   ]
  }
 ],
 "metadata": {
  "kernelspec": {
   "display_name": "Python 3 (ipykernel)",
   "language": "python",
   "name": "python3"
  },
  "language_info": {
   "codemirror_mode": {
    "name": "ipython",
    "version": 3
   },
   "file_extension": ".py",
   "mimetype": "text/x-python",
   "name": "python",
   "nbconvert_exporter": "python",
   "pygments_lexer": "ipython3",
   "version": "3.9.7"
  },
  "toc": {
   "base_numbering": 1,
   "nav_menu": {},
   "number_sections": true,
   "sideBar": true,
   "skip_h1_title": false,
   "title_cell": "Table of Contents",
   "title_sidebar": "Contents",
   "toc_cell": false,
   "toc_position": {},
   "toc_section_display": true,
   "toc_window_display": false
  },
  "varInspector": {
   "cols": {
    "lenName": 16,
    "lenType": 16,
    "lenVar": 40
   },
   "kernels_config": {
    "python": {
     "delete_cmd_postfix": "",
     "delete_cmd_prefix": "del ",
     "library": "var_list.py",
     "varRefreshCmd": "print(var_dic_list())"
    },
    "r": {
     "delete_cmd_postfix": ") ",
     "delete_cmd_prefix": "rm(",
     "library": "var_list.r",
     "varRefreshCmd": "cat(var_dic_list()) "
    }
   },
   "types_to_exclude": [
    "module",
    "function",
    "builtin_function_or_method",
    "instance",
    "_Feature"
   ],
   "window_display": false
  }
 },
 "nbformat": 4,
 "nbformat_minor": 5
}
