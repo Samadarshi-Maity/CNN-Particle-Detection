{
 "cells": [
  {
   "cell_type": "markdown",
   "id": "38c3dbcd",
   "metadata": {},
   "source": [
    "# This is a notebook to generate synthetic data of overlapping particles"
   ]
  },
  {
   "cell_type": "code",
   "execution_count": null,
   "id": "b94025db",
   "metadata": {
    "code_folding": []
   },
   "outputs": [],
   "source": [
    "# import some necessary python modules \n",
    "import numpy as np\n",
    "import yaml\n",
    "import pandas as pd\n",
    "import tqdm\n",
    "from pathlib import Path"
   ]
  },
  {
   "cell_type": "code",
   "execution_count": null,
   "id": "137b80da",
   "metadata": {
    "code_folding": []
   },
   "outputs": [],
   "source": [
    "# import the user defined modules \n",
    "from image_generate_modules import gen_path, image_generator, binary_to_heatmap\n",
    "from utils.config_utils import load_config"
   ]
  },
  {
   "cell_type": "markdown",
   "id": "a66e0ff6",
   "metadata": {},
   "source": [
    "## Set up the file architecture "
   ]
  },
  {
   "cell_type": "code",
   "execution_count": 10,
   "id": "1525cb70",
   "metadata": {
    "code_folding": []
   },
   "outputs": [],
   "source": [
    "# declare necessary cirectory architecture\n",
    "# ........... build the path architecture ........ \n",
    "# set current directory\n",
    "cwd = Path().resolve() \n",
    "Parent = cwd.parent\n",
    "# set file path architecture \n",
    "path_data = load_config(str(cwd.parent / 'configs/config.yaml'))\n",
    "# path to synthetic training data \n",
    "train_data_syn = cwd.parent /path_data['Images']['FirstTrain_syn']\n",
    "# path to the heatmaps (parquet and the .npy)\n",
    "parquet_path = cwd.parent /path_data['Heatmaps']['Parquet_Transfer']\n",
    "heatmap_data_syn = cwd.parent /path_data['Heatmaps']['FirstTrain_syn']\n",
    "\n",
    "# Location to store the training images \n",
    "syn_img_folder = str(train_data_syn)\n",
    "syn_heatmap_folder = str(heatmap_data_syn )\n",
    "\n",
    "# location to store the "
   ]
  },
  {
   "cell_type": "markdown",
   "id": "b197a4d4",
   "metadata": {},
   "source": [
    "## define some of the parameters"
   ]
  },
  {
   "cell_type": "code",
   "execution_count": 1,
   "id": "4d285455",
   "metadata": {},
   "outputs": [],
   "source": [
    "# define the frame dimensions\n",
    "X_size = 128            # x dimension of the image in pixels \n",
    "Y_size = 128            # y dimension of the image in pixels \n",
    "\n",
    "# dataset parameters\n",
    "N_images = 10           # number of images\n",
    "nbParticles = 500       # The approximate number of particles \n",
    "PtoB_ratio  = 17/512    # PtoB_ratio maps the particle size in microns to the image in the pixels \n",
    "Packing_fraction = 0.5  # packing fraction of the particles \n",
    "\n",
    "# heatmap parameters\n",
    "sigma = 0.7             # spead of the gaussian for the heatmap "
   ]
  },
  {
   "cell_type": "markdown",
   "id": "4fda8dc1",
   "metadata": {},
   "source": [
    "##  Create the Images of the overlapping particles "
   ]
  },
  {
   "cell_type": "code",
   "execution_count": null,
   "id": "b60d5178",
   "metadata": {},
   "outputs": [],
   "source": [
    "# create path locations for saveing the synthetic images\n",
    "path_list = gen_path(syn_img_folder, N_images) \n",
    "\n",
    "# stores data of the particle postion as 2D binary mask\n",
    "H_list = []\n",
    "\n",
    "# create a bunch of images  \n",
    "for i in tqdm.tqdm(range(N_images)) :\n",
    "    X_, Y_, H = image_generator(path_list[i], [X_size, Y_size], nbParticles , PtoB_ratio=PtoB_ratio, packing_frac = Packing_fraction)\n",
    "    # flatten the dataframe \n",
    "    H_list.append(H.flatten())"
   ]
  },
  {
   "cell_type": "markdown",
   "id": "efb108f5",
   "metadata": {},
   "source": [
    "## Store the 2D particle positions as a flattened DataFrame as .parquet file "
   ]
  },
  {
   "cell_type": "code",
   "execution_count": 16,
   "id": "8dd4f29a",
   "metadata": {
    "code_folding": []
   },
   "outputs": [],
   "source": [
    "# save the 2D logistic map parquet format ... serves as a metadata ....\n",
    "parquet_name = 'temp.parquet' # ...  or some other naem based on use case \n",
    "H_val = pd.DataFrame()\n",
    "H_val['H'] = H_list\n",
    "H_val.to_parquet(str(parquet_path /'temp.parquet'))"
   ]
  },
  {
   "cell_type": "markdown",
   "id": "924fdda3",
   "metadata": {},
   "source": [
    "## Create the Corresponding heatmaps"
   ]
  },
  {
   "cell_type": "code",
   "execution_count": null,
   "id": "7e6191d8",
   "metadata": {},
   "outputs": [],
   "source": [
    "# create heatmaps\n",
    "# create path locations for saveing the synthetic image heatmaps \n",
    "path_list = gen_path(syn_heatmap_folder, N_images)\n",
    "\n",
    "# run the loop for developing the synthetic image heatmaops \n",
    "for i in tqdm.tqdm(range(len(H_val))):\n",
    "    \n",
    "    H = H_val['H'].iloc[i]\n",
    "        \n",
    "    # compute and store the heatmaps     \n",
    "    binary_to_heatmap(path_list[i], sigma, H, [X_size, Y_size])\n"
   ]
  }
 ],
 "metadata": {
  "kernelspec": {
   "display_name": "Python 3 (ipykernel)",
   "language": "python",
   "name": "python3"
  },
  "language_info": {
   "codemirror_mode": {
    "name": "ipython",
    "version": 3
   },
   "file_extension": ".py",
   "mimetype": "text/x-python",
   "name": "python",
   "nbconvert_exporter": "python",
   "pygments_lexer": "ipython3",
   "version": "3.9.7"
  },
  "toc": {
   "base_numbering": 1,
   "nav_menu": {},
   "number_sections": true,
   "sideBar": true,
   "skip_h1_title": false,
   "title_cell": "Table of Contents",
   "title_sidebar": "Contents",
   "toc_cell": false,
   "toc_position": {},
   "toc_section_display": true,
   "toc_window_display": false
  },
  "varInspector": {
   "cols": {
    "lenName": 16,
    "lenType": 16,
    "lenVar": 40
   },
   "kernels_config": {
    "python": {
     "delete_cmd_postfix": "",
     "delete_cmd_prefix": "del ",
     "library": "var_list.py",
     "varRefreshCmd": "print(var_dic_list())"
    },
    "r": {
     "delete_cmd_postfix": ") ",
     "delete_cmd_prefix": "rm(",
     "library": "var_list.r",
     "varRefreshCmd": "cat(var_dic_list()) "
    }
   },
   "types_to_exclude": [
    "module",
    "function",
    "builtin_function_or_method",
    "instance",
    "_Feature"
   ],
   "window_display": false
  }
 },
 "nbformat": 4,
 "nbformat_minor": 5
}
